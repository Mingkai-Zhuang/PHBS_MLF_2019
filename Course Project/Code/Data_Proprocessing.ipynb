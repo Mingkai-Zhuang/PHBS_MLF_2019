{
 "cells": [
  {
   "cell_type": "markdown",
   "metadata": {},
   "source": [
    "# **Content**:\n",
    "\n",
    " -  3 [Data Preprocessing](#DataPreprocessing)\n",
    "   - 3.1  [Preparation](#Preparation)\n",
    "   - 3.2 [Divide numerical and catagorical features](#divide)\n",
    "   - 3.3 [Filling in missing values](#fill)\n",
    "   - 3.4 [Normalize and PCA transformation](#transform)\n",
    "   - 3.5 [Nomalize Y variable](#y)"
   ]
  },
  {
   "cell_type": "markdown",
   "metadata": {},
   "source": [
    "# 3 Data Preprocessing\n",
    "Here is the data preprocessing and feature selection part"
   ]
  },
  {
   "cell_type": "markdown",
   "metadata": {},
   "source": [
    "## Preparation\n",
    "This part is about import packages and loading data."
   ]
  },
  {
   "cell_type": "code",
   "execution_count": 1,
   "metadata": {},
   "outputs": [],
   "source": [
    "'''\n",
    "import related packages\n",
    "'''\n",
    "import pandas as pd\n",
    "import numpy as np\n",
    "from sklearn.preprocessing import QuantileTransformer\n",
    "from sklearn.decomposition import PCA\n",
    "from sklearn.preprocessing import Normalizer\n",
    "from sklearn.pipeline import Pipeline\n",
    "from sklearn.impute import SimpleImputer\n",
    "from sklearn.compose import ColumnTransformer"
   ]
  },
  {
   "cell_type": "code",
   "execution_count": 2,
   "metadata": {},
   "outputs": [],
   "source": [
    "'''\n",
    "loading data processed in the first part\n",
    "'''\n",
    "train_data = pd.read_csv('../Data_preprocess/X_train.csv')\n",
    "test_data=pd.read_csv('../Data_preprocess/X_test.csv')\n",
    "y_data=pd.read_csv('../Data_preprocess/y_train.csv')"
   ]
  },
  {
   "cell_type": "markdown",
   "metadata": {},
   "source": [
    "## Divide numerical and catagorical features <a class=\"anchor\" id=\"divide\"></a>\n",
    "We have two different kinds of feature variables in the dataset. One is numerical varible. The other is categorical variable."
   ]
  },
  {
   "cell_type": "code",
   "execution_count": 3,
   "metadata": {},
   "outputs": [],
   "source": [
    "#numerical variables\n",
    "num_features_final = ['Feature_2', 'Feature_3', 'Feature_4', 'Feature_6',\n",
    "                      'Feature_11', 'Feature_14',\n",
    "                      'Feature_17', 'Feature_18', 'Feature_19',\n",
    "                      'Feature_21', 'Feature_22', 'Feature_23', 'Feature_24', 'Feature_25',\n",
    "                      'Ret_MinusTwo', 'Ret_MinusOne', 'R_Agg', 'R_Agg_Std',\n",
    "                      'R_Std']\n",
    "\n",
    "#categorical variables\n",
    "cat_features_final = ['Feature_1', 'Feature_5', 'Feature_7', 'Feature_8', 'Feature_9', 'Feature_10',\n",
    "                              'Feature_12', 'Feature_15', 'Feature_16', 'Feature_20']\n",
    "\n",
    "#Y variables\n",
    "targets = ['Ret_PlusOne', 'Ret_PlusTwo'] \n",
    "\n",
    "features_final = num_features_final + cat_features_final\n",
    "\n",
    "train_X_data = train_data[features_final]\n",
    "test_X_data = test_data[features_final]\n",
    "train_Y_data=y_data[targets]"
   ]
  },
  {
   "cell_type": "markdown",
   "metadata": {},
   "source": [
    "## Filling in missing values<a class=\"anchor\" id=\"fill\"></a>\n",
    "Due to the fact that we cannot know the actual meaning of each feature provided by Kaggle, so we chose to use constant to fill in the misssing value of all feature variables, which is a quite simple and most conservative way. "
   ]
  },
  {
   "cell_type": "code",
   "execution_count": 4,
   "metadata": {},
   "outputs": [],
   "source": [
    "imputer = SimpleImputer(strategy='constant')\n",
    "train_X_data = pd.DataFrame(imputer.fit_transform(train_X_data), columns=features_final)\n",
    "test_X_data = pd.DataFrame(imputer.transform(test_X_data), columns=features_final)"
   ]
  },
  {
   "cell_type": "markdown",
   "metadata": {},
   "source": [
    "## Normalize and PCA transformation  <a class=\"anchor\" id=\"transform\"></a>\n",
    "We used a roubust function: QuantileTransformer to force numerical variables in the dataset follows a normal distribution format. This transformation greatly improved our model accuracy.\n",
    "Also, we apply PCA method to categorical variables and leave two principle components, which can expain 99% of the total variance. This step also helped a lot in our prediction."
   ]
  },
  {
   "cell_type": "code",
   "execution_count": 5,
   "metadata": {},
   "outputs": [
    {
     "data": {
      "text/plain": [
       "array([9.99999918e-01, 3.10451203e-08])"
      ]
     },
     "execution_count": 5,
     "metadata": {},
     "output_type": "execute_result"
    }
   ],
   "source": [
    "#normolize numerical variables\n",
    "num_transformer = QuantileTransformer(n_quantiles=300, output_distribution='normal', random_state=0)\n",
    "\n",
    "#apply PCA method to categorical variables\n",
    "cat_transformer_nominal = Pipeline(steps=[\n",
    "    ('pca', PCA(n_components=2,random_state=0)),\n",
    "     ('norm', Normalizer(norm='l2')),\n",
    "])\n",
    "\n",
    "#apply method to two kinds of variables\n",
    "preprocessor_X = ColumnTransformer(\n",
    "    transformers=[\n",
    "        ('num', num_transformer, num_features_final),        \n",
    "        ('cat_nom', cat_transformer_nominal, cat_features_final),      \n",
    "    ])\n",
    "\n",
    "#find total explaind variance\n",
    "pca=PCA(n_components=2,random_state=0)\n",
    "pca.fit_transform(train_X_data[cat_features_final])\n",
    "pca.explained_variance_ratio_"
   ]
  },
  {
   "cell_type": "markdown",
   "metadata": {},
   "source": [
    "## Transformed data for model training "
   ]
  },
  {
   "cell_type": "code",
   "execution_count": 6,
   "metadata": {},
   "outputs": [
    {
     "data": {
      "text/html": [
       "<div>\n",
       "<style scoped>\n",
       "    .dataframe tbody tr th:only-of-type {\n",
       "        vertical-align: middle;\n",
       "    }\n",
       "\n",
       "    .dataframe tbody tr th {\n",
       "        vertical-align: top;\n",
       "    }\n",
       "\n",
       "    .dataframe thead th {\n",
       "        text-align: right;\n",
       "    }\n",
       "</style>\n",
       "<table border=\"1\" class=\"dataframe\">\n",
       "  <thead>\n",
       "    <tr style=\"text-align: right;\">\n",
       "      <th></th>\n",
       "      <th>Feature_2</th>\n",
       "      <th>Feature_3</th>\n",
       "      <th>Feature_4</th>\n",
       "      <th>Feature_6</th>\n",
       "      <th>Feature_11</th>\n",
       "      <th>Feature_14</th>\n",
       "      <th>Feature_17</th>\n",
       "      <th>Feature_18</th>\n",
       "      <th>Feature_19</th>\n",
       "      <th>Feature_21</th>\n",
       "      <th>...</th>\n",
       "      <th>Feature_23</th>\n",
       "      <th>Feature_24</th>\n",
       "      <th>Feature_25</th>\n",
       "      <th>Ret_MinusTwo</th>\n",
       "      <th>Ret_MinusOne</th>\n",
       "      <th>R_Agg</th>\n",
       "      <th>R_Agg_Std</th>\n",
       "      <th>R_Std</th>\n",
       "      <th>pca1</th>\n",
       "      <th>pca2</th>\n",
       "    </tr>\n",
       "  </thead>\n",
       "  <tbody>\n",
       "    <tr>\n",
       "      <td>0</td>\n",
       "      <td>0.289008</td>\n",
       "      <td>-0.507163</td>\n",
       "      <td>-0.413924</td>\n",
       "      <td>-0.083932</td>\n",
       "      <td>0.319742</td>\n",
       "      <td>0.927037</td>\n",
       "      <td>1.006071</td>\n",
       "      <td>-0.764086</td>\n",
       "      <td>0.321578</td>\n",
       "      <td>-0.306535</td>\n",
       "      <td>...</td>\n",
       "      <td>-1.298895</td>\n",
       "      <td>0.781034</td>\n",
       "      <td>1.078218</td>\n",
       "      <td>1.940940</td>\n",
       "      <td>-0.670442</td>\n",
       "      <td>-2.190017</td>\n",
       "      <td>0.508973</td>\n",
       "      <td>1.489095</td>\n",
       "      <td>1.0</td>\n",
       "      <td>0.000882</td>\n",
       "    </tr>\n",
       "    <tr>\n",
       "      <td>1</td>\n",
       "      <td>0.289008</td>\n",
       "      <td>-0.507163</td>\n",
       "      <td>-0.413924</td>\n",
       "      <td>0.522191</td>\n",
       "      <td>-0.104132</td>\n",
       "      <td>-0.098964</td>\n",
       "      <td>-0.575548</td>\n",
       "      <td>0.337299</td>\n",
       "      <td>0.363299</td>\n",
       "      <td>0.510962</td>\n",
       "      <td>...</td>\n",
       "      <td>0.456558</td>\n",
       "      <td>1.731163</td>\n",
       "      <td>-0.394168</td>\n",
       "      <td>0.607782</td>\n",
       "      <td>0.282945</td>\n",
       "      <td>-1.185813</td>\n",
       "      <td>-0.970219</td>\n",
       "      <td>-0.668901</td>\n",
       "      <td>-1.0</td>\n",
       "      <td>0.000185</td>\n",
       "    </tr>\n",
       "    <tr>\n",
       "      <td>2</td>\n",
       "      <td>-0.579391</td>\n",
       "      <td>0.366990</td>\n",
       "      <td>-0.904483</td>\n",
       "      <td>0.619693</td>\n",
       "      <td>-0.158031</td>\n",
       "      <td>1.036359</td>\n",
       "      <td>-0.860541</td>\n",
       "      <td>1.016131</td>\n",
       "      <td>-0.676719</td>\n",
       "      <td>-0.306535</td>\n",
       "      <td>...</td>\n",
       "      <td>1.175681</td>\n",
       "      <td>-0.659845</td>\n",
       "      <td>-1.148629</td>\n",
       "      <td>0.203559</td>\n",
       "      <td>0.502281</td>\n",
       "      <td>-0.101822</td>\n",
       "      <td>-0.258746</td>\n",
       "      <td>-1.170008</td>\n",
       "      <td>-1.0</td>\n",
       "      <td>0.000144</td>\n",
       "    </tr>\n",
       "    <tr>\n",
       "      <td>3</td>\n",
       "      <td>-0.576944</td>\n",
       "      <td>1.110585</td>\n",
       "      <td>0.324578</td>\n",
       "      <td>0.155162</td>\n",
       "      <td>-1.261308</td>\n",
       "      <td>-2.325095</td>\n",
       "      <td>-0.858695</td>\n",
       "      <td>0.857025</td>\n",
       "      <td>1.855358</td>\n",
       "      <td>0.729778</td>\n",
       "      <td>...</td>\n",
       "      <td>0.915947</td>\n",
       "      <td>-0.653676</td>\n",
       "      <td>1.078218</td>\n",
       "      <td>0.061111</td>\n",
       "      <td>0.943021</td>\n",
       "      <td>0.286224</td>\n",
       "      <td>-1.436142</td>\n",
       "      <td>-0.129346</td>\n",
       "      <td>-1.0</td>\n",
       "      <td>-0.000070</td>\n",
       "    </tr>\n",
       "    <tr>\n",
       "      <td>4</td>\n",
       "      <td>-1.787541</td>\n",
       "      <td>2.063238</td>\n",
       "      <td>1.170043</td>\n",
       "      <td>1.947869</td>\n",
       "      <td>-2.311977</td>\n",
       "      <td>-1.766005</td>\n",
       "      <td>2.730373</td>\n",
       "      <td>-2.742027</td>\n",
       "      <td>0.063184</td>\n",
       "      <td>1.720474</td>\n",
       "      <td>...</td>\n",
       "      <td>1.495378</td>\n",
       "      <td>-1.982066</td>\n",
       "      <td>2.649022</td>\n",
       "      <td>-1.036283</td>\n",
       "      <td>0.791777</td>\n",
       "      <td>-0.408690</td>\n",
       "      <td>0.519264</td>\n",
       "      <td>0.647671</td>\n",
       "      <td>-1.0</td>\n",
       "      <td>0.000206</td>\n",
       "    </tr>\n",
       "  </tbody>\n",
       "</table>\n",
       "<p>5 rows × 21 columns</p>\n",
       "</div>"
      ],
      "text/plain": [
       "   Feature_2  Feature_3  Feature_4  Feature_6  Feature_11  Feature_14  \\\n",
       "0   0.289008  -0.507163  -0.413924  -0.083932    0.319742    0.927037   \n",
       "1   0.289008  -0.507163  -0.413924   0.522191   -0.104132   -0.098964   \n",
       "2  -0.579391   0.366990  -0.904483   0.619693   -0.158031    1.036359   \n",
       "3  -0.576944   1.110585   0.324578   0.155162   -1.261308   -2.325095   \n",
       "4  -1.787541   2.063238   1.170043   1.947869   -2.311977   -1.766005   \n",
       "\n",
       "   Feature_17  Feature_18  Feature_19  Feature_21  ...  Feature_23  \\\n",
       "0    1.006071   -0.764086    0.321578   -0.306535  ...   -1.298895   \n",
       "1   -0.575548    0.337299    0.363299    0.510962  ...    0.456558   \n",
       "2   -0.860541    1.016131   -0.676719   -0.306535  ...    1.175681   \n",
       "3   -0.858695    0.857025    1.855358    0.729778  ...    0.915947   \n",
       "4    2.730373   -2.742027    0.063184    1.720474  ...    1.495378   \n",
       "\n",
       "   Feature_24  Feature_25  Ret_MinusTwo  Ret_MinusOne     R_Agg  R_Agg_Std  \\\n",
       "0    0.781034    1.078218      1.940940     -0.670442 -2.190017   0.508973   \n",
       "1    1.731163   -0.394168      0.607782      0.282945 -1.185813  -0.970219   \n",
       "2   -0.659845   -1.148629      0.203559      0.502281 -0.101822  -0.258746   \n",
       "3   -0.653676    1.078218      0.061111      0.943021  0.286224  -1.436142   \n",
       "4   -1.982066    2.649022     -1.036283      0.791777 -0.408690   0.519264   \n",
       "\n",
       "      R_Std  pca1      pca2  \n",
       "0  1.489095   1.0  0.000882  \n",
       "1 -0.668901  -1.0  0.000185  \n",
       "2 -1.170008  -1.0  0.000144  \n",
       "3 -0.129346  -1.0 -0.000070  \n",
       "4  0.647671  -1.0  0.000206  \n",
       "\n",
       "[5 rows x 21 columns]"
      ]
     },
     "execution_count": 6,
     "metadata": {},
     "output_type": "execute_result"
    }
   ],
   "source": [
    "Preprocessed_x_train=pd.DataFrame(preprocessor_X.fit_transform(train_X_data),columns=num_features_final+['pca1','pca2'])\n",
    "Preprocessed_x_test=pd.DataFrame(preprocessor_X.transform(test_X_data),columns=num_features_final+['pca1','pca2'])\n",
    "Preprocessed_x_train.head()"
   ]
  },
  {
   "cell_type": "markdown",
   "metadata": {},
   "source": [
    "## Nomalize Y variable <a class=\"anchor\" id=\"y\"></a>"
   ]
  },
  {
   "cell_type": "code",
   "execution_count": 7,
   "metadata": {},
   "outputs": [],
   "source": [
    "# Target transformer\n",
    "preprocessor_Y = Pipeline(steps=[\n",
    "    ('quantile', QuantileTransformer(n_quantiles=300, output_distribution='normal', random_state=0))\n",
    "])"
   ]
  },
  {
   "cell_type": "code",
   "execution_count": null,
   "metadata": {},
   "outputs": [],
   "source": []
  }
 ],
 "metadata": {
  "kernelspec": {
   "display_name": "Python 3",
   "language": "python",
   "name": "python3"
  },
  "language_info": {
   "codemirror_mode": {
    "name": "ipython",
    "version": 3
   },
   "file_extension": ".py",
   "mimetype": "text/x-python",
   "name": "python",
   "nbconvert_exporter": "python",
   "pygments_lexer": "ipython3",
   "version": "3.7.4"
  }
 },
 "nbformat": 4,
 "nbformat_minor": 2
}
